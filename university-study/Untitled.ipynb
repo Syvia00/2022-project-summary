{
 "cells": [
  {
   "cell_type": "code",
   "execution_count": 1,
   "metadata": {},
   "outputs": [
    {
     "name": "stdout",
     "output_type": "stream",
     "text": [
      "(['6339103  ', 'Uwe Roehm'], ['1234567  ', 'Jon Patrick'], ['7891234  ', 'Sanjay Chawla'], ['1237890  ', 'Joseph Davis'], ['4657890  ', 'Alan Fekete'], ['0987654  ', 'Simon Poon'], ['1122334  ', 'Irena Koprinska'], ['6339109  ', 'Uwe Roehm'])\n"
     ]
    }
   ],
   "source": [
    "import database\n",
    "\n",
    "result = database.search_staff(\"SIT\");\n",
    "print(result)\n"
   ]
  },
  {
   "cell_type": "code",
   "execution_count": null,
   "metadata": {},
   "outputs": [],
   "source": [
    "exe"
   ]
  },
  {
   "cell_type": "code",
   "execution_count": null,
   "metadata": {},
   "outputs": [],
   "source": []
  }
 ],
 "metadata": {
  "kernelspec": {
   "display_name": "Python 3",
   "language": "python",
   "name": "python3"
  },
  "language_info": {
   "codemirror_mode": {
    "name": "ipython",
    "version": 3
   },
   "file_extension": ".py",
   "mimetype": "text/x-python",
   "name": "python",
   "nbconvert_exporter": "python",
   "pygments_lexer": "ipython3",
   "version": "3.7.4"
  }
 },
 "nbformat": 4,
 "nbformat_minor": 4
}
